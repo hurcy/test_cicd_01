{
 "cells": [
  {
   "cell_type": "code",
   "execution_count": null,
   "metadata": {},
   "outputs": [],
   "source": [
    "%pip install pytest"
   ]
  },
  {
   "cell_type": "code",
   "execution_count": 0,
   "metadata": {
    "application/vnd.databricks.v1+cell": {
     "cellMetadata": {},
     "inputWidgets": {},
     "nuid": "f762f9f2-ff8f-4d10-b02f-5c7bb6b484a4",
     "showTitle": false,
     "tableResultSettingsMap": {},
     "title": ""
    }
   },
   "outputs": [],
   "source": [
    "# pytest.main runs our tests directly in the notebook environment, providing\n",
    "# fidelity for Spark and other configuration variables.\n",
    "#\n",
    "# A limitation of this approach is that changes to the test will be\n",
    "# cache by Python's import caching mechanism.\n",
    "#\n",
    "# To iterate on tests during development, we restart the Python process \n",
    "# and thus clear the import cache to pick up changes.\n",
    "dbutils.library.restartPython()\n",
    "\n",
    "import pytest\n",
    "import os\n",
    "import sys\n",
    "\n",
    "# Run all tests in the repository root.\n",
    "notebook_path = dbutils.notebook.entry_point.getDbutils().notebook().getContext().notebookPath().get()\n",
    "repo_root = os.path.dirname(os.path.dirname(notebook_path))\n",
    "os.chdir(f'/Workspace/{repo_root}')\n",
    "%pwd\n",
    "\n",
    "# Skip writing pyc files on a readonly filesystem.\n",
    "sys.dont_write_bytecode = True\n",
    "\n",
    "retcode = pytest.main([\"./tests/sub_test.py\", \"-p\", \"no:cacheprovider\"])\n",
    "\n",
    "# Fail the cell execution if we have any test failures.\n",
    "assert retcode == 0, 'The pytest invocation failed. See the log above for details.'"
   ]
  }
 ],
 "metadata": {
  "application/vnd.databricks.v1+notebook": {
   "computePreferences": null,
   "dashboards": [],
   "environmentMetadata": {
    "base_environment": "",
    "environment_version": "2"
   },
   "language": "python",
   "notebookMetadata": {
    "pythonIndentUnit": 4
   },
   "notebookName": "test",
   "widgets": {}
  },
  "language_info": {
   "name": "python"
  }
 },
 "nbformat": 4,
 "nbformat_minor": 0
}
