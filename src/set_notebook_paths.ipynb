{
 "cells": [
  {
   "cell_type": "code",
   "execution_count": 0,
   "metadata": {
    "application/vnd.databricks.v1+cell": {
     "cellMetadata": {
      "byteLimit": 2048000,
      "rowLimit": 10000
     },
     "inputWidgets": {},
     "nuid": "84011da3-1f1d-4b75-8f61-3e720e4c1adb",
     "showTitle": false,
     "tableResultSettingsMap": {},
     "title": ""
    }
   },
   "outputs": [],
   "source": [
    "# Databricks notebook source\n",
    "\n",
    "import sys\n",
    "import os\n",
    "# change to your bundle name\n",
    "root = 'test_cicd_01'\n",
    "try:\n",
    "    root = dbutils.widgets.get(\"bundle_root\")\n",
    "    if root:\n",
    "        print(\"bundle_root: \" + root)\n",
    "    else:\n",
    "        root = os.path.abspath(f'/Workspace/Users/{dbutils.notebook.entry_point.getDbutils().notebook().getContext().userName().get()}/{root}/src')\n",
    "except:\n",
    "    print(\"bundle_root not defined. Using relative path.\")\n",
    "    root = os.path.abspath(f'/Workspace/Users/{dbutils.notebook.entry_point.getDbutils().notebook().getContext().userName().get()}/{root}/src')\n",
    "\n",
    "sys.path.append(root)\n",
    "print(sys.path)"
   ]
  }
 ],
 "metadata": {
  "application/vnd.databricks.v1+notebook": {
   "computePreferences": null,
   "dashboards": [],
   "environmentMetadata": {
    "base_environment": "",
    "environment_version": "2"
   },
   "language": "python",
   "notebookMetadata": {
    "pythonIndentUnit": 4
   },
   "notebookName": "set_notebook_paths",
   "widgets": {}
  },
  "language_info": {
   "name": "python"
  }
 },
 "nbformat": 4,
 "nbformat_minor": 0
}
