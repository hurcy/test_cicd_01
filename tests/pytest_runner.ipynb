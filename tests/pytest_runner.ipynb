{
 "cells": [
  {
   "cell_type": "code",
   "execution_count": 0,
   "metadata": {
    "application/vnd.databricks.v1+cell": {
     "cellMetadata": {
      "byteLimit": 2048000,
      "rowLimit": 10000
     },
     "inputWidgets": {},
     "nuid": "71ba579d-8b45-48e8-8262-269b388a1de5",
     "showTitle": false,
     "tableResultSettingsMap": {},
     "title": ""
    }
   },
   "outputs": [],
   "source": [
    "%pip install pytest"
   ]
  },
  {
   "cell_type": "code",
   "execution_count": 0,
   "metadata": {
    "application/vnd.databricks.v1+cell": {
     "cellMetadata": {
      "byteLimit": 2048000,
      "rowLimit": 10000
     },
     "inputWidgets": {},
     "nuid": "9f6ce17b-3bee-40ad-bcc9-fa8d403509b8",
     "showTitle": false,
     "tableResultSettingsMap": {},
     "title": ""
    }
   },
   "outputs": [],
   "source": [
    "dbutils.library.restartPython()"
   ]
  },
  {
   "cell_type": "code",
   "execution_count": 0,
   "metadata": {
    "application/vnd.databricks.v1+cell": {
     "cellMetadata": {
      "byteLimit": 2048000,
      "rowLimit": 10000
     },
     "inputWidgets": {},
     "nuid": "3de725c0-f78c-43a8-8f4d-1805bc67d356",
     "showTitle": false,
     "tableResultSettingsMap": {},
     "title": ""
    }
   },
   "outputs": [],
   "source": [
    "# pytest.main runs our tests directly in the notebook environment, providing\n",
    "# fidelity for Spark and other configuration variables.\n",
    "#\n",
    "# A limitation of this approach is that changes to the test will be\n",
    "# cache by Python's import caching mechanism.\n",
    "#\n",
    "# To iterate on tests during development, we restart the Python process \n",
    "# and thus clear the import cache to pick up changes.\n",
    "\n",
    "\n",
    "import pytest\n",
    "import os\n",
    "import sys\n",
    "\n",
    "# Run all tests in the repository root.\n",
    "notebook_path = dbutils.notebook.entry_point.getDbutils().notebook().getContext().notebookPath().get()\n",
    "repo_root = os.path.dirname(os.path.dirname(notebook_path))\n",
    "os.chdir(f'/Workspace/{repo_root}')\n",
    "sys.path.append(f'/Workspace/{repo_root}/src')\n",
    "%pwd\n",
    "\n",
    "# Skip writing pyc files on a readonly filesystem.\n",
    "sys.dont_write_bytecode = True\n",
    "\n",
    "test_file = dbutils.widgets.get('test_file')\n",
    "retcode = pytest.main([f\"./tests/{test_file}\", \"-p\", \"no:cacheprovider\"])\n",
    "\n",
    "# Fail the cell execution if we have any test failures.\n",
    "assert retcode == 0, 'The pytest invocation failed. See the log above for details.'"
   ]
  }
 ],
 "metadata": {
  "application/vnd.databricks.v1+notebook": {
   "computePreferences": null,
   "dashboards": [],
   "environmentMetadata": {
    "base_environment": "",
    "environment_version": "2"
   },
   "language": "python",
   "notebookMetadata": {
    "pythonIndentUnit": 4
   },
   "notebookName": "pytest_runner",
   "widgets": {
    "test_file": {
     "currentValue": "test_hello_world.py",
     "nuid": "2f45f4b6-06ef-4faf-9484-a0fc8dd37454",
     "typedWidgetInfo": {
      "autoCreated": false,
      "defaultValue": "test_hello_world.py",
      "label": "",
      "name": "test_file",
      "options": {
       "validationRegex": null,
       "widgetDisplayType": "Text"
      },
      "parameterDataType": "String"
     },
     "widgetInfo": {
      "defaultValue": "test_hello_world.py",
      "label": "",
      "name": "test_file",
      "options": {
       "autoCreated": false,
       "validationRegex": null,
       "widgetType": "text"
      },
      "widgetType": "text"
     }
    }
   }
  },
  "language_info": {
   "name": "python"
  }
 },
 "nbformat": 4,
 "nbformat_minor": 0
}
